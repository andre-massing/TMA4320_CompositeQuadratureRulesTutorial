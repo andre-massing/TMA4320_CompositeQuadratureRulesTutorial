{
 "cells": [
  {
   "cell_type": "markdown",
   "metadata": {
    "editable": true,
    "slideshow": {
     "slide_type": "slide"
    },
    "tags": []
   },
   "source": [
    "# Some random programming tips and tricks\n",
    "\n",
    "* How to use git and github for version control\n",
    "* Using  test-driven development using pytest\n",
    "* Debugging tools\n",
    "* Profiling\n",
    "* AI/Copilot assisted programming\n",
    "* Overleaf + github for version controlled project reports\n",
    "\n",
    "To have something conrete to work with, we will briefly introduce these \n",
    "concepts while developing some composite quadrature rules."
   ]
  },
  {
   "cell_type": "markdown",
   "metadata": {
    "editable": true,
    "slideshow": {
     "slide_type": "slide"
    },
    "tags": []
   },
   "source": [
    "A word of advice:\n",
    "\n",
    "There are many, many powerful tools out there,\n",
    "don't get overwhelmed and try to learn all of them at once and by heart. \n",
    "\n",
    "Instead,  identity tools which will be most useful for you.\n",
    "L earn only the most basic usage cases first, which \n",
    "are immediately relevant for the work you want to get done.\n",
    "\n",
    "Later, when you feel the need, you can broaden your knowledge about each tool."
   ]
  },
  {
   "cell_type": "markdown",
   "metadata": {
    "editable": true,
    "slideshow": {
     "slide_type": "slide"
    },
    "tags": []
   },
   "source": [
    "# Python environments\n",
    "\n",
    "Using Python environments is a good idea because they allow you to manage dependencies for different projects separately. This ensures that the packages and versions used in one project do not interfere with those in another project. Additionally, environments help in maintaining a clean and organized development setup, making it easier to reproduce and share your work with others."
   ]
  },
  {
   "cell_type": "markdown",
   "metadata": {
    "slideshow": {
     "slide_type": "fragment"
    }
   },
   "source": [
    "There are a lot of different tools for setting up Python environments and installing and maintaining software.\n",
    "\n",
    "- **virtualenv**: A tool to create isolated Python environments. [virtualenv Documentation](https://virtualenv.pypa.io/en/latest/)\n",
    "- **conda**: An open-source package management and environment management system. [Conda Documentation](https://docs.conda.io/projects/conda/en/latest/)\n",
    "- **pipenv**: A tool that aims to bring the best of all packaging worlds to the Python world. [Pipenv Documentation](https://pipenv.pypa.io/en/latest/)\n",
    "\n",
    "See [VScode documentation](https://code.visualstudio.com/docs/python/environments) for how \n",
    "to use vscode with either of these tools."
   ]
  },
  {
   "cell_type": "markdown",
   "metadata": {
    "slideshow": {
     "slide_type": "slide"
    }
   },
   "source": [
    "# Git\n",
    "**Git** is a distributed version control system that allows multiple people to work on a project simultaneously without interfering with each other's changes. It helps track changes, revert to previous states, and collaborate efficiently.\n"
   ]
  },
  {
   "cell_type": "markdown",
   "metadata": {
    "slideshow": {
     "slide_type": "slide"
    }
   },
   "source": [
    "\n",
    "### Use Case Scenarios for Git\n",
    "\n",
    "1. **Collaborative Development**: Multiple developers can work on different features of the same project simultaneously without overwriting each other's changes. Git helps in merging these changes seamlessly.\n",
    "\n",
    "2. **Version Control**: Git keeps track of every change made to the codebase. This allows developers to revert to previous versions if something goes wrong, ensuring a stable and reliable development process.\n",
    "\n",
    "3. **Branching and Merging**: Developers can create branches to work on new features or bug fixes independently. Once the work is complete, these branches can be merged back into the main codebase.\n",
    "\n",
    "4. **Code Review**: Git facilitates code reviews by allowing team members to comment on specific lines of code, suggest changes, and approve modifications before they are merged into the main branch.\n",
    "\n",
    "5. **Continuous Integration/Continuous Deployment (CI/CD)**: Git integrates with CI/CD tools to automate testing and deployment processes. This ensures that code changes are automatically tested and deployed to production environments.\n",
    "\n",
    "6. **Backup and Restore**: Git serves as a backup system for the codebase. In case of accidental deletions or data loss, the repository can be restored to a previous state.\n",
    "\n",
    "7. **Open Source Contributions**: Git is widely used in open source projects. Contributors can fork repositories, make changes, and submit pull requests to propose their modifications to the project maintainers.\n"
   ]
  },
  {
   "cell_type": "markdown",
   "metadata": {
    "slideshow": {
     "slide_type": "slide"
    }
   },
   "source": [
    "\n",
    "### Concrete Examples\n",
    "\n",
    "1. **Collaborative Development in a Software Company**: In a software company, multiple developers work on different features of a web application. Using Git, each developer can create their own branch to work on a specific feature. Once the feature is complete and tested, it can be merged into the main branch without affecting the work of others.\n",
    "\n",
    "2. **Writing a Thesis with Multiple Contributors**: When writing a thesis with multiple contributors, Git can be used to manage the document versions. Each contributor can work on different sections of the thesis in separate branches. Changes can be reviewed and merged into the main document, ensuring that all contributions are tracked and integrated smoothly.\n",
    "\n",
    "3. **Managing a Research Project**: In a research project, different team members might be responsible for different parts of the project, such as data collection, analysis, and writing. Git allows each member to work on their part independently. The project lead can then review and merge these contributions, maintaining a coherent and up-to-date project repository.\n",
    "\n",
    "4. **Open Source Software Development**: In an open source project, contributors from around the world can fork the repository, make improvements or fix bugs, and submit pull requests. The project maintainers can review these changes, suggest modifications, and merge them into the main codebase, fostering a collaborative and inclusive development environment."
   ]
  },
  {
   "cell_type": "markdown",
   "metadata": {
    "slideshow": {
     "slide_type": "slide"
    }
   },
   "source": [
    "\n",
    "* **Repository** - A repository is a storage space where your project lives. It can be local to a folder on your computer or a remote repository on a server.\n",
    "* **Remote Repository** - A remote repository is a version of your project that is hosted on the internet or network somewhere. It can be accessed by multiple users.\n",
    "* **Branch** - A branch is a separate line of development in a repository. It lets you work on different features or versions simultaneously.\n",
    "* **Merge** - Merging is the process of combining the changes from different branches into one.\n",
    "* **Commit** - A commit is a snapshot of your repository at a specific point in time. It records changes to the repository.\n",
    "* **Staging Area** - The staging area is a place where you can group changes before committing them.\n",
    "\n"
   ]
  },
  {
   "cell_type": "markdown",
   "metadata": {
    "slideshow": {
     "slide_type": "slide"
    }
   },
   "source": [
    "### Online Tutorials on Git\n",
    "\n",
    "Here are some useful online tutorials to help you get started with Git:\n",
    "\n",
    "1. [W3Schools' Git Tutorial](https://www.w3schools.com/git/default.asp) - A comprehensive guide for beginners.\n",
    "2. [Software Capentry's Tutorial](https://swcarpentry.github.io/git-novice/)\n",
    "3. [Atlassian Git Tutorial](https://www.atlassian.com/git/tutorials) - Detailed tutorials from the creators of Bitbucket.\n"
   ]
  },
  {
   "cell_type": "markdown",
   "metadata": {
    "slideshow": {
     "slide_type": "slide"
    }
   },
   "source": [
    "## Using Git\n",
    "\n",
    "Git can be used in various ways, including through the terminal, integrated development environments (IDEs) like Visual Studio Code, or other graphical user interfaces (GUIs).\n"
   ]
  },
  {
   "cell_type": "markdown",
   "metadata": {
    "slideshow": {
     "slide_type": "slide"
    }
   },
   "source": [
    "\n",
    "### Using Git in the Terminal\n",
    "The terminal provides a powerful way to interact with Git. Here are some common commands:\n",
    "* **git init** - Initializes a new Git repository.\n",
    "* **git clone [url]** - Clones an existing repository from a URL.\n",
    "* **git add [file]** - Adds a file to the staging area.\n",
    "* **git commit -m \"message\"** - Commits changes with a message.\n",
    "* **git status** - Shows the status of changes.\n",
    "* **git push** - Pushes changes to a remote repository.\n",
    "* **git pull** - Pulls updates from a remote repository.\n"
   ]
  },
  {
   "cell_type": "markdown",
   "metadata": {
    "slideshow": {
     "slide_type": "slide"
    }
   },
   "source": [
    "\n",
    "### Using Git in Visual Studio Code\n",
    "Visual Studio Code (VS Code) has built-in Git support, making it easy to manage your repositories. Some features include:\n",
    "* **Source Control View** - Accessed via the Source Control icon in the Activity Bar, it shows changes, staged files, and allows you to commit.\n",
    "* **Integrated Terminal** - Use the terminal within VS Code to run Git commands.\n",
    "* **Extensions** - There are many extensions available to enhance Git functionality in VS Code.\n"
   ]
  },
  {
   "cell_type": "markdown",
   "metadata": {
    "slideshow": {
     "slide_type": "slide"
    }
   },
   "source": [
    "\n",
    "### Other Graphical User Interfaces (GUIs)\n",
    "There are several GUIs available for Git that provide a more visual approach to managing repositories:\n",
    "* **GitHub Desktop** - A simple interface for GitHub repositories. [GitHub Desktop](https://desktop.github.com/)\n",
    "* **Sourcetree** - A free Git GUI client for Windows and macOS. [Sourcetree](https://www.sourcetreeapp.com/)\n",
    "* **GitKraken** - A cross-platform Git GUI client with a focus on productivity. [GitKraken](https://www.gitkraken.com/)\n",
    "\n",
    "Each method has its own advantages, and you can choose the one that best fits your workflow."
   ]
  },
  {
   "cell_type": "markdown",
   "metadata": {
    "slideshow": {
     "slide_type": "slide"
    }
   },
   "source": [
    "## GitHub and other online hosts/platforms for git controlled repositories\n",
    "\n",
    "**GitHub** is a web-based platform that uses Git for version control. It provides a collaborative environment for developers to host and review code, manage projects, and build software together. GitHub also offers features like issue tracking, project management, and continuous integration.\n",
    "\n",
    " It provides a collaborative environment for developers to host and review code, manage projects, and build software together. GitHub also offers features like issue tracking, project management, and continuous integration. [GitHub](https://github.com/)\n"
   ]
  },
  {
   "cell_type": "markdown",
   "metadata": {
    "slideshow": {
     "slide_type": "slide"
    }
   },
   "source": [
    "\n",
    "### Alternatives to GitHub\n",
    "1. **GitLab** - A web-based DevOps lifecycle tool that provides a Git repository manager providing wiki, issue-tracking, and CI/CD pipeline features, using an open-source license. [GitLab](https://about.gitlab.com)\n",
    "2. **Bitbucket** - A Git repository management solution designed for professional teams. It integrates with Jira and Trello and offers both cloud and on-premises options. [Bitbucket](https://bitbucket.org/)\n",
    "\n"
   ]
  },
  {
   "cell_type": "markdown",
   "metadata": {
    "slideshow": {
     "slide_type": "slide"
    }
   },
   "source": [
    "\n",
    "Let's have a look at [Ronny Bergman's presentation \n",
    "on Version management and Debugging](https://www.math.ntnu.no/emner/TMA4320/2024v/notater/Git-and-Debugging-web.pdf) from last year."
   ]
  },
  {
   "cell_type": "markdown",
   "metadata": {
    "slideshow": {
     "slide_type": "slide"
    }
   },
   "source": [
    "**Useful random tips** \n",
    "\n",
    "1. Use local (in your repo) or global (in your home dir)  \n",
    "`.gitignore` files to avoid accidentally adding certain files or filetypes to your repository, e.g.\n",
    "autogenerated LaTeX files (including the final PDF file!), log files, back-up files generated by editors etc. See\n",
    "[w3schools](https://www.w3schools.com/git/git_ignore.asp?remote=github)\n",
    "\n",
    "\n",
    "2. You can simplify access to git repositories on GitHub by using SSH, see\n",
    "\n",
    "* [Connecting to GitHub with SSH](https://docs.github.com/en/enterprise-server@3.12/authentication/connecting-to-github-with-ssh) and in particular how you \n",
    "* [generate new SSH keys and add them to GitHub](https://docs.github.com/en/enterprise-server@3.12/authentication/connecting-to-github-with-ssh/generating-a-new-ssh-key-and-adding-it-to-the-ssh-agent)\n",
    "\n",
    "See also [W3schools](https://www.w3schools.com/git/git_security_ssh.asp?remote=github)\n",
    "\n",
    "3. Set up your local git config to improve workflows"
   ]
  },
  {
   "cell_type": "markdown",
   "metadata": {
    "slideshow": {
     "slide_type": "slide"
    }
   },
   "source": [
    "Let's try it out!\n",
    "\n",
    "Things, we would like to test out:\n",
    "\n",
    "* Clone a repository\n",
    "* Pull changes\n",
    "* Modify a file, stage and commit it \n",
    "* Merge changes"
   ]
  },
  {
   "cell_type": "markdown",
   "metadata": {},
   "source": [
    "# Implementing composite quadrature rules\n",
    "\n",
    "Now we want to implement a new composite quadrature rule.\n",
    "We will talk about both how to use git/github\n",
    "and test driven development to achieve this!\n",
    "\n",
    "Related to Git/Github, we will\n",
    "\n",
    "* Fork a repository\n",
    "* Push changes back to remote rep\n",
    "* Modify a file, stage and commit it \n",
    "* Create a (feature/debug) branch\n",
    "* Add a file, stage and commit it, push it\n",
    "* Create a pull request\n",
    "\n",
    "Related to testing, we will \n",
    "\n",
    "* discuss approaches for testing and code verification.\n",
    "* implement some simple and parametrized tests \n",
    "  for our composite rules to "
   ]
  },
  {
   "cell_type": "markdown",
   "metadata": {
    "slideshow": {
     "slide_type": "slide"
    },
    "vscode": {
     "languageId": "plaintext"
    }
   },
   "source": [
    "## Concrete strategies for code development\n",
    "\n",
    "Code development cycles usually consist of the following activities:\n",
    "\n",
    "* Code writing\n",
    "* Code testing   (= verification: does the code what it is suppose to do?)\n",
    "* Code debugging (systematic approach to find errors in your code)\n",
    "* Code profiling (Measuring the performance of your code)"
   ]
  },
  {
   "cell_type": "markdown",
   "metadata": {},
   "source": [
    "\n",
    "\n",
    "\n",
    "### Efficient and Sustainable Coding Approaches\n",
    "\n",
    "1. **Test-Driven Development (TDD)**: This approach involves writing tests before writing the actual code. It ensures that the code meets the requirements and helps in identifying bugs early. TDD promotes better design and maintainability.\n",
    "\n",
    "2. **Peer Code Review**: Code reviews by peers help in identifying potential issues, improving code quality, and sharing knowledge among team members. It encourages collaboration and adherence to coding standards.\n",
    "\n",
    "3. **Modular Design**: Breaking down the code into smaller, reusable modules or functions makes it easier to manage, test, and maintain. It promotes code reusability and reduces redundancy.\n",
    "\n",
    "4. **Interface Design**: Designing clear and consistent interfaces for modules and functions ensures that they can be easily used and understood by other developers. Good interface design improves code readability and usability.\n",
    "\n",
    "5. **Documentation**: Writing comprehensive documentation for the code, including comments, docstrings, and external documentation, helps in understanding the code's functionality and usage. It is essential for long-term maintenance and collaboration.\n"
   ]
  },
  {
   "cell_type": "markdown",
   "metadata": {
    "slideshow": {
     "slide_type": "slide"
    }
   },
   "source": [
    "6. **Version Control**: Using version control systems like Git allows tracking changes, collaborating with others, and managing different versions of the code. It is crucial for maintaining a history of changes and reverting to previous states if needed.\n",
    "\n",
    "7. **Code Refactoring**: Regularly refactoring the code to improve its structure, readability, and performance without changing its functionality. It helps in maintaining a clean and efficient codebase.\n",
    "\n",
    "8. **Performance Optimization**: Identifying and optimizing performance bottlenecks in the code ensures that it runs efficiently. Profiling tools can be used to analyze and improve the performance of the code.\n",
    "\n",
    "9. **Automated Testing**: Implementing automated tests for different parts of the codebase ensures that changes do not introduce new bugs. It helps in maintaining code reliability and stability.\n",
    "\n",
    "10. **Continuous Integration (CI)**: Implementing CI practices ensures that code changes are automatically tested and integrated into the main codebase. It helps in identifying integration issues early and maintains code quality."
   ]
  },
  {
   "cell_type": "markdown",
   "metadata": {
    "slideshow": {
     "slide_type": "slide"
    }
   },
   "source": [
    "Collecting concrete ideas for implementing/testing composite quadrature rules ... "
   ]
  },
  {
   "cell_type": "markdown",
   "metadata": {
    "slideshow": {
     "slide_type": "slide"
    }
   },
   "source": [
    "## Copilot\n",
    "\n",
    "For general use á la ChatGTP\n",
    "see [NTNU's wiki page on Copilot](https://i.ntnu.no/wiki/-/wiki/English/Copilot)\n",
    "\n",
    "**Main differences compared to ChatGTP**\n",
    "\n",
    "* Compliant processing of **internal** and **open** data see\n",
    "[NTNU's classification categories](https://i.ntnu.no/wiki/-/wiki/Norsk/Informasjonsklassifisering+-+informasjonssikkerhet#konfidensialitet)\n",
    "* Usage of input/output data more restrictive than for ChatGTP\n",
    "  (if you use log in via you NTNU email address!)\n",
    "\n"
   ]
  },
  {
   "cell_type": "markdown",
   "metadata": {
    "slideshow": {
     "slide_type": "fragment"
    }
   },
   "source": [
    "Did you know that you can also get\n",
    "[free access to Copilot Pro with Github integration](\n",
    "https://docs.github.com/en/copilot/managing-copilot/managing-copilot-as-an-individual-subscriber/managing-your-github-copilot-pro-subscription/getting-free-access-to-copilot-pro-as-a-student-teacher-or-maintainer)  as a student, teacher, or maintainer?\n",
    "\n",
    "Note that using Copilot via vscode most probably circumvents private settings for NTNU-based Copilot usage."
   ]
  },
  {
   "cell_type": "markdown",
   "metadata": {
    "slideshow": {
     "slide_type": "slide"
    }
   },
   "source": [
    "## Things we haven't talked about (too much)\n",
    "\n",
    "* Profiling:  Profiling is the process of measuring the performance of your code, identifying bottlenecks, and determining which parts of the code are consuming the most resources (such as time or memory). It helps in optimizing the code for better efficiency and performance. Profiling tools provide detailed reports on function calls, execution time, memory usage, and other performance metrics, allowing developers to make informed decisions on where to focus their optimization efforts.\n",
    "\n",
    "* Simple tools in Jupyter notebook, see e.g.  the [Python Data Science Handbook](https://jakevdp.github.io/PythonDataScienceHandbook/01.07-timing-and-profiling.html)\n",
    "* Lightweight/simple approach for measuring execution time of small code snippets [using the timeit module](https://docs.python.org/3/library/timeit.html)"
   ]
  }
 ],
 "metadata": {
  "kernelspec": {
   "display_name": "Python 3 (ipykernel)",
   "language": "python",
   "name": "python3"
  },
  "language_info": {
   "codemirror_mode": {
    "name": "ipython",
    "version": 3
   },
   "file_extension": ".py",
   "mimetype": "text/x-python",
   "name": "python",
   "nbconvert_exporter": "python",
   "pygments_lexer": "ipython3",
   "version": "3.13.1"
  }
 },
 "nbformat": 4,
 "nbformat_minor": 4
}
